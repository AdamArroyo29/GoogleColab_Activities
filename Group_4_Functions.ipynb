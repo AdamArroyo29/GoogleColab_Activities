{
  "nbformat": 4,
  "nbformat_minor": 0,
  "metadata": {
    "colab": {
      "provenance": []
    },
    "kernelspec": {
      "name": "python3",
      "display_name": "Python 3"
    },
    "language_info": {
      "name": "python"
    }
  },
  "cells": [
    {
      "cell_type": "code",
      "execution_count": 1,
      "metadata": {
        "id": "n2ci7AbNq_X2"
      },
      "outputs": [],
      "source": [
        "#Function - Its a block of code which executes when we call it.\n",
        "def example():\n",
        "  print(\"Hi Everyone\")"
      ]
    },
    {
      "cell_type": "code",
      "source": [
        "example()"
      ],
      "metadata": {
        "colab": {
          "base_uri": "https://localhost:8080/"
        },
        "id": "IuQqkG-ZrJPU",
        "outputId": "3ee935c8-1eec-4189-8e00-9aaaf593d2c7"
      },
      "execution_count": 2,
      "outputs": [
        {
          "output_type": "stream",
          "name": "stdout",
          "text": [
            "Hi Everyone\n"
          ]
        }
      ]
    },
    {
      "cell_type": "code",
      "source": [
        "def dept(fname):\n",
        "  print(fname + \" helps to generate revenue\")\n",
        "\n",
        "dept(\"HR\")"
      ],
      "metadata": {
        "colab": {
          "base_uri": "https://localhost:8080/"
        },
        "id": "s-T8qQjPrXYO",
        "outputId": "e85091b3-a5eb-41e5-ff69-a1695c0d8680"
      },
      "execution_count": 3,
      "outputs": [
        {
          "output_type": "stream",
          "name": "stdout",
          "text": [
            "HR helps to generate revenue\n"
          ]
        }
      ]
    },
    {
      "cell_type": "code",
      "source": [
        "def example_1(string):\n",
        "  return len(string)\n",
        "print(\"length of string is\",example_1(\"Python Programming\"))"
      ],
      "metadata": {
        "colab": {
          "base_uri": "https://localhost:8080/"
        },
        "id": "RHFdehsorfBr",
        "outputId": "1fc327f2-4b76-45ae-b653-784d1f33e216"
      },
      "execution_count": 4,
      "outputs": [
        {
          "output_type": "stream",
          "name": "stdout",
          "text": [
            "length of string is 18\n"
          ]
        }
      ]
    },
    {
      "cell_type": "code",
      "source": [
        "text = \"This is function topic in python\"\n",
        "def anytext(any):\n",
        "  '''\n",
        "  input:\n",
        "    anytext-str\n",
        "  output:\n",
        "    anytext-str\n",
        "  '''\n",
        "  output = text +any.upper()\n",
        "  return output"
      ],
      "metadata": {
        "id": "AMTADWNOr2SE"
      },
      "execution_count": 5,
      "outputs": []
    },
    {
      "cell_type": "code",
      "source": [
        "anytext('Hello Everyone')"
      ],
      "metadata": {
        "colab": {
          "base_uri": "https://localhost:8080/",
          "height": 36
        },
        "id": "CuK65fFBr9P8",
        "outputId": "307e853a-ea09-474f-e8f7-884bd92e9164"
      },
      "execution_count": 6,
      "outputs": [
        {
          "output_type": "execute_result",
          "data": {
            "text/plain": [
              "'This is function topic in pythonHELLO EVERYONE'"
            ],
            "application/vnd.google.colaboratory.intrinsic+json": {
              "type": "string"
            }
          },
          "metadata": {},
          "execution_count": 6
        }
      ]
    },
    {
      "cell_type": "code",
      "source": [
        "def multiply(*numbers):\n",
        "  total = 1\n",
        "  for number in numbers:\n",
        "    total *= number\n",
        "  return total"
      ],
      "metadata": {
        "id": "xC4iCTZXsFTc"
      },
      "execution_count": 7,
      "outputs": []
    },
    {
      "cell_type": "code",
      "source": [
        "multiply(2,3,4,1,3)"
      ],
      "metadata": {
        "colab": {
          "base_uri": "https://localhost:8080/"
        },
        "id": "AEUYE82PsTJk",
        "outputId": "d2eb774f-b070-4e7d-d45f-e01df30ed286"
      },
      "execution_count": 8,
      "outputs": [
        {
          "output_type": "execute_result",
          "data": {
            "text/plain": [
              "72"
            ]
          },
          "metadata": {},
          "execution_count": 8
        }
      ]
    },
    {
      "cell_type": "code",
      "source": [
        "def emp_1(** emp):\n",
        "  print(emp)"
      ],
      "metadata": {
        "id": "TfdQ0CAEsWPc"
      },
      "execution_count": 9,
      "outputs": []
    },
    {
      "cell_type": "code",
      "source": [
        "emp_1(id=1,name=\"Steve\",age=26)"
      ],
      "metadata": {
        "colab": {
          "base_uri": "https://localhost:8080/"
        },
        "id": "iYvvmM6qscK9",
        "outputId": "c5deb18c-859c-4832-e946-04fbe0920df8"
      },
      "execution_count": 10,
      "outputs": [
        {
          "output_type": "stream",
          "name": "stdout",
          "text": [
            "{'id': 1, 'name': 'Steve', 'age': 26}\n"
          ]
        }
      ]
    },
    {
      "cell_type": "code",
      "source": [
        "#task - define a function for employees with string \"emp works with\", id, name and dept\n",
        "def Emp(** E):\n",
        "  print(\"Employee works with \",E)"
      ],
      "metadata": {
        "id": "hbgk1MW2shbc"
      },
      "execution_count": 11,
      "outputs": []
    },
    {
      "cell_type": "code",
      "source": [
        "Emp(id=30,name=\"Mark\",dept=\"Engineering\")"
      ],
      "metadata": {
        "colab": {
          "base_uri": "https://localhost:8080/"
        },
        "id": "MEu-qV7AslkF",
        "outputId": "ae9b326c-ef09-427d-ecb4-48262c951ba8"
      },
      "execution_count": 12,
      "outputs": [
        {
          "output_type": "stream",
          "name": "stdout",
          "text": [
            "Employee works with  {'id': 30, 'name': 'Mark', 'dept': 'Engineering'}\n"
          ]
        }
      ]
    },
    {
      "cell_type": "code",
      "source": [
        "def employee_details(emp_id, name, dept):\n",
        "    return print(name,\"(\",emp_id,\")\",\"works in\",dept,\"department.\")\n",
        "employee_details(30,\"Mark\",\"Sales\")"
      ],
      "metadata": {
        "colab": {
          "base_uri": "https://localhost:8080/"
        },
        "id": "P_Z86puxsrAV",
        "outputId": "cb73cbcf-11b2-459f-f06e-a1fa7f225f34"
      },
      "execution_count": 13,
      "outputs": [
        {
          "output_type": "stream",
          "name": "stdout",
          "text": [
            "Mark ( 30 ) works in Sales department.\n"
          ]
        }
      ]
    },
    {
      "cell_type": "code",
      "source": [],
      "metadata": {
        "id": "tfacWk9XstiU"
      },
      "execution_count": null,
      "outputs": []
    }
  ]
}